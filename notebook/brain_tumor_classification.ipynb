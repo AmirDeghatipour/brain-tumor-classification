{
 "cells": [
  {
   "attachments": {},
   "cell_type": "markdown",
   "id": "1e233234",
   "metadata": {},
   "source": [
    "# Brainn Tumor Classification"
   ]
  },
  {
   "cell_type": "markdown",
   "id": "553fa7a1",
   "metadata": {},
   "source": [
    "# Import Required Packages"
   ]
  },
  {
   "cell_type": "code",
   "execution_count": 2,
   "id": "439eb45b",
   "metadata": {},
   "outputs": [
    {
     "data": {
      "text/plain": [
       "'d:\\\\python-projects\\\\brain-tumor-classification'"
      ]
     },
     "execution_count": 2,
     "metadata": {},
     "output_type": "execute_result"
    }
   ],
   "source": [
    "import os\n",
    "os.chdir(\"../\")\n",
    "%pwd"
   ]
  },
  {
   "cell_type": "code",
   "execution_count": 3,
   "id": "635ffc57",
   "metadata": {},
   "outputs": [],
   "source": [
    "from pathlib import Path\n",
    "from dataclasses import dataclass\n",
    "from src.utils.common import read_yaml, create_directories\n",
    "from src.constants import CONFIG_FILE_PATH, PARAMS_FILE_PATH\n",
    "from src.logging import logger\n",
    "\n",
    "import torch\n",
    "import torch.nn as nn\n",
    "from torchvision import transforms, datasets\n",
    "import torchvision.models as models\n",
    "from torch.utils.data import DataLoader, random_split\n",
    "from tqdm import tqdm\n",
    "\n",
    "import time\n",
    "from torch.utils.tensorboard import SummaryWriter\n",
    "\n",
    "\n",
    "%matplotlib inline\n",
    "import warnings\n",
    "warnings.filterwarnings('ignore')"
   ]
  },
  {
   "cell_type": "markdown",
   "id": "f08c212b",
   "metadata": {},
   "source": [
    "# Data Ingestion"
   ]
  },
  {
   "cell_type": "code",
   "execution_count": 22,
   "id": "b8fd73aa",
   "metadata": {},
   "outputs": [],
   "source": [
    "@dataclass(frozen=True)\n",
    "class DataIngestionConfig:\n",
    "    root_dir: Path\n",
    "    source_data_dir: Path"
   ]
  },
  {
   "cell_type": "markdown",
   "id": "7f7970c3",
   "metadata": {},
   "source": [
    "The *DataIngestionConfig Class* store two important paths for data processing, and the \"frozen\" part ensures these paths can't be accidentally modified later."
   ]
  },
  {
   "cell_type": "code",
   "execution_count": 26,
   "id": "6c802ee2",
   "metadata": {},
   "outputs": [],
   "source": [
    "class ConfigurationManager:\n",
    "    def __init__(\n",
    "        self,\n",
    "        config_filepath = CONFIG_FILE_PATH,\n",
    "        params_filepath = PARAMS_FILE_PATH):\n",
    "\n",
    "        self.config = read_yaml(config_filepath)\n",
    "        self.params = read_yaml(params_filepath)\n",
    "\n",
    "        create_directories([Path(self.config.artifacts_root)])\n",
    "\n",
    "    def get_data_ingestion_config(self) -> DataIngestionConfig:\n",
    "        config = self.config.data_ingestion\n",
    "        create_directories([Path(config.root_dir)])\n",
    "\n",
    "        data_ingestion_config = DataIngestionConfig(\n",
    "            root_dir=Path(config.root_dir),  \n",
    "            source_data_dir=Path(config.source_data_dir)\n",
    "        )\n",
    "\n",
    "        return data_ingestion_config"
   ]
  },
  {
   "cell_type": "markdown",
   "id": "1f35e54b",
   "metadata": {},
   "source": [
    "*ConfigurationManager*  is a class that helps to manage and organize your project's settings."
   ]
  },
  {
   "cell_type": "code",
   "execution_count": 27,
   "id": "d02073b6",
   "metadata": {},
   "outputs": [],
   "source": [
    "class DataIngestion:\n",
    "    def __init__(self, config: DataIngestionConfig):\n",
    "        self.config = config\n",
    "\n",
    "    def initiate_data_ingestion(self):\n",
    "        logger.info(\"Checking Data Directory is exsisting\")\n",
    "        if not self.config.source_data_dir.exists():\n",
    "            raise FileNotFoundError(f\"Data directory not found at {self.config.source_data_dir}\")\n",
    "        logger.info(\"Data directory found and ready to use\")\n",
    "        return self.config.source_data_dir"
   ]
  },
  {
   "cell_type": "markdown",
   "id": "602d9ac1",
   "metadata": {},
   "source": [
    "*DataIngestion* class is responsible for handling the data ingestion process, meaning it helps to check if the data directory exists and can be used for further processing."
   ]
  },
  {
   "cell_type": "code",
   "execution_count": 28,
   "id": "2a19bcd5",
   "metadata": {},
   "outputs": [
    {
     "name": "stdout",
     "output_type": "stream",
     "text": [
      "[2025-05-05 15:49:23,304] [14] [tumorClassifierLogger] - INFO - YAML file loaded successfully: config\\config.yaml\n",
      "[2025-05-05 15:49:23,307] [14] [tumorClassifierLogger] - INFO - YAML file loaded successfully: params.yaml\n",
      "[2025-05-05 15:49:23,308] [27] [tumorClassifierLogger] - INFO - Created directory at: artifacts\n",
      "[2025-05-05 15:49:23,309] [27] [tumorClassifierLogger] - INFO - Created directory at: artifacts\\data_ingestion\n",
      "[2025-05-05 15:49:23,310] [6] [tumorClassifierLogger] - INFO - Checking Data Directory is exsisting\n",
      "[2025-05-05 15:49:23,311] [9] [tumorClassifierLogger] - INFO - Data directory found and ready to use\n"
     ]
    }
   ],
   "source": [
    "try:\n",
    "    config = ConfigurationManager()\n",
    "    data_ingestion_config = config.get_data_ingestion_config()\n",
    "    data_ingestion = DataIngestion(config=data_ingestion_config)\n",
    "    data_ingestion.initiate_data_ingestion()\n",
    "except Exception as e:\n",
    "    raise e"
   ]
  },
  {
   "cell_type": "markdown",
   "id": "23026db6",
   "metadata": {},
   "source": [
    "# Prepare Base Model"
   ]
  },
  {
   "cell_type": "code",
   "execution_count": 28,
   "id": "0bf5c9a9",
   "metadata": {},
   "outputs": [],
   "source": [
    "@dataclass(frozen=True)\n",
    "class PrepareBaseModelConfig:\n",
    "    root_dir: Path\n",
    "    base_model_path: Path\n",
    "    updated_base_model_path: Path\n",
    "    params_image_size: list\n",
    "    params_learning_rate: float\n",
    "    params_include_top: bool\n",
    "    params_weights: str\n",
    "    params_classes: int"
   ]
  },
  {
   "cell_type": "code",
   "execution_count": 29,
   "id": "25669a67",
   "metadata": {},
   "outputs": [],
   "source": [
    "class ConfigurationManager:\n",
    "    def __init__(\n",
    "        self, \n",
    "        config_filepath = CONFIG_FILE_PATH,\n",
    "        params_filepath = PARAMS_FILE_PATH):\n",
    "        self.config = read_yaml(config_filepath)\n",
    "        self.params = read_yaml(params_filepath)\n",
    "        create_directories([Path(self.config.artifacts_root)])\n",
    "\n",
    "\n",
    "    def get_prepare_base_model_config(self) -> PrepareBaseModelConfig:\n",
    "        config = self.config.prepare_base_model\n",
    "        \n",
    "        create_directories([Path(config.root_dir)])\n",
    "        \n",
    "\n",
    "        prepare_base_model_config = PrepareBaseModelConfig(\n",
    "            root_dir=Path(config.root_dir),\n",
    "            base_model_path=Path(config.base_model_path),\n",
    "            updated_base_model_path=Path(config.updated_base_model_path),\n",
    "            params_image_size=self.params.IMAGE_SIZE,\n",
    "            params_learning_rate=self.params.LEARNING_RATE,\n",
    "            params_include_top=self.params.INCLUDE_TOP,\n",
    "            params_weights=self.params.WEIGHTS,\n",
    "            params_classes=self.params.CLASSES\n",
    "        )\n",
    "\n",
    "        return prepare_base_model_config"
   ]
  },
  {
   "cell_type": "code",
   "execution_count": 30,
   "id": "f63face6",
   "metadata": {},
   "outputs": [],
   "source": [
    "\n",
    "class PrepareBaseModel:\n",
    "    def __init__(self, config: PrepareBaseModelConfig):\n",
    "        self.config = config\n",
    "        self.device = torch.device(\"cuda\" if torch.cuda.is_available() else \"cpu\")\n",
    "\n",
    "    def get_base_model(self):\n",
    "        self.model = models.vgg16(weights=models.VGG16_Weights.IMAGENET1K_V1)\n",
    "        \n",
    "        if not self.config.params_include_top:\n",
    "            self.model.classifier = nn.Identity()\n",
    "\n",
    "        self.model.to(self.device)\n",
    "        self.save_model(path=self.config.base_model_path, model=self.model)\n",
    "\n",
    "    @staticmethod\n",
    "    def _prepare_full_model(model, classes, freeze_all, freeze_till, learning_rate):\n",
    "        if freeze_all:\n",
    "            for param in model.parameters():\n",
    "                param.requires_grad = False\n",
    "        elif (freeze_till is not None) and (freeze_till > 0):\n",
    "            for idx, child in enumerate(model.features):\n",
    "                if idx < freeze_till:\n",
    "                    for param in child.parameters():\n",
    "                        param.requires_grad = False\n",
    "\n",
    "        model.classifier = nn.Sequential(\n",
    "            nn.Flatten(),\n",
    "            nn.Linear(25088, 4096),\n",
    "            nn.ReLU(True),\n",
    "            nn.Dropout(),\n",
    "            nn.Linear(4096, 4096),\n",
    "            nn.ReLU(True),\n",
    "            nn.Dropout(),\n",
    "            nn.Linear(4096, classes),\n",
    "            nn.Softmax(dim=1)\n",
    "        )\n",
    "\n",
    "        model.to(model.device if hasattr(model, 'device') else torch.device(\"cpu\"))\n",
    "        return model\n",
    "\n",
    "    def update_base_model(self):\n",
    "        self.full_model = self._prepare_full_model(\n",
    "            model=self.model,\n",
    "            classes=self.config.params_classes,\n",
    "            freeze_all=True,\n",
    "            freeze_till=None,\n",
    "            learning_rate=self.config.params_learning_rate\n",
    "        )\n",
    "        self.save_model(self.config.updated_base_model_path, self.full_model)\n",
    "\n",
    "    @staticmethod\n",
    "    def save_model(path, model):\n",
    "        torch.save(model, path)"
   ]
  },
  {
   "cell_type": "code",
   "execution_count": 31,
   "id": "da06d65b",
   "metadata": {},
   "outputs": [
    {
     "name": "stdout",
     "output_type": "stream",
     "text": [
      "[2025-05-22 16:36:32,614] [14] [tumorClassifierLogger] - INFO - YAML file loaded successfully: config\\config.yaml\n",
      "[2025-05-22 16:36:32,617] [14] [tumorClassifierLogger] - INFO - YAML file loaded successfully: params.yaml\n",
      "[2025-05-22 16:36:32,619] [27] [tumorClassifierLogger] - INFO - Created directory at: artifacts\n",
      "[2025-05-22 16:36:32,620] [27] [tumorClassifierLogger] - INFO - Created directory at: artifacts\\prepare_base_model\n"
     ]
    }
   ],
   "source": [
    "try:\n",
    "    config = ConfigurationManager()\n",
    "    prepare_base_model_config = config.get_prepare_base_model_config()\n",
    "    prepare_base_model = PrepareBaseModel(config=prepare_base_model_config)\n",
    "    prepare_base_model.get_base_model()\n",
    "    prepare_base_model.update_base_model()\n",
    "except Exception as e:\n",
    "    raise e"
   ]
  },
  {
   "cell_type": "markdown",
   "id": "d5a4cdff",
   "metadata": {},
   "source": [
    "# Prepare Callbaks"
   ]
  },
  {
   "cell_type": "code",
   "execution_count": 14,
   "id": "677f8467",
   "metadata": {},
   "outputs": [],
   "source": [
    "@dataclass(frozen=True)\n",
    "class PrepareCallbacksConfig:\n",
    "    root_dir: Path\n",
    "    tensorboard_root_log_dir: Path\n",
    "    checkpoint_model_filepath: Path"
   ]
  },
  {
   "cell_type": "code",
   "execution_count": 15,
   "id": "2c560457",
   "metadata": {},
   "outputs": [],
   "source": [
    "class ConfigurationManager:\n",
    "    def __init__(\n",
    "        self, \n",
    "        config_filepath = CONFIG_FILE_PATH,\n",
    "        params_filepath = PARAMS_FILE_PATH):\n",
    "        self.config = read_yaml(config_filepath)\n",
    "        self.params = read_yaml(params_filepath)\n",
    "        create_directories([Path(self.config.artifacts_root)])\n",
    "\n",
    "    \n",
    "    def get_prepare_callback_config(self) -> PrepareCallbacksConfig:\n",
    "        config = self.config.prepare_callbacks\n",
    "        model_ckpt_dir = os.path.dirname(config.checkpoint_model_filepath)\n",
    "        create_directories([\n",
    "            Path(model_ckpt_dir),\n",
    "            Path(config.tensorboard_root_log_dir)\n",
    "        ])\n",
    "\n",
    "        prepare_callback_config = PrepareCallbacksConfig(\n",
    "            root_dir=Path(config.root_dir),\n",
    "            tensorboard_root_log_dir=Path(config.tensorboard_root_log_dir),\n",
    "            checkpoint_model_filepath=Path(config.checkpoint_model_filepath)\n",
    "        )\n",
    "\n",
    "        return prepare_callback_config"
   ]
  },
  {
   "cell_type": "code",
   "execution_count": null,
   "id": "c7bbbb58",
   "metadata": {},
   "outputs": [],
   "source": [
    "class PrepareCallback:\n",
    "    def __init__(self, config:PrepareCallbacksConfig):\n",
    "        self.config = config\n",
    "        self.timestamp = time.strftime(\"%Y-%m-%d-%H-%M-%S\")\n",
    "        self.tb_running_log_dir = os.path.join(\n",
    "            self.config.tensorboard_root_log_dir,\n",
    "            f\"tb_logs_at_{self.timestamp}\",\n",
    "        )\n",
    "        self._writer = None\n",
    "        self.best_loss = float('inf')\n",
    "\n",
    "    @property\n",
    "    def _create_tb_callbacks(self):\n",
    "        \"\"\"Equivalent of TensorBoard callback in TensorFlow\"\"\"\n",
    "        if self._writer is None:\n",
    "            self._writer = SummaryWriter(log_dir=self.tb_running_log_dir)\n",
    "        return self._writer\n",
    "\n",
    "    @property\n",
    "    def _create_ckpt_callbacks(self):\n",
    "        \"\"\"Equivalent of ModelCheckpoint in TensorFlow\"\"\"\n",
    "        def checkpoint_callback(model, current_loss):\n",
    "            if current_loss < self.best_loss:\n",
    "                self.best_loss = current_loss\n",
    "                torch.save(model.state_dict(), self.config.checkpoint_model_filepath)\n",
    "                print(f\"[Checkpoint] Saved model with loss {current_loss:.4f}\")\n",
    "        return checkpoint_callback\n",
    "\n",
    "    def get_tb_ckpt_callbacks(self):\n",
    "        return [\n",
    "            self._create_tb_callbacks,\n",
    "            self._create_ckpt_callbacks\n",
    "        ]\n",
    "\n",
    "    def close(self):\n",
    "        if self._writer is not None:\n",
    "            self._writer.close()"
   ]
  },
  {
   "cell_type": "code",
   "execution_count": 18,
   "id": "d7cb1327",
   "metadata": {},
   "outputs": [
    {
     "name": "stdout",
     "output_type": "stream",
     "text": [
      "[2025-05-18 13:08:52,151] [14] [tumorClassifierLogger] - INFO - YAML file loaded successfully: config\\config.yaml\n",
      "[2025-05-18 13:08:52,155] [14] [tumorClassifierLogger] - INFO - YAML file loaded successfully: params.yaml\n",
      "[2025-05-18 13:08:52,157] [27] [tumorClassifierLogger] - INFO - Created directory at: artifacts\n",
      "[2025-05-18 13:08:52,158] [27] [tumorClassifierLogger] - INFO - Created directory at: artifacts\\prepare_callbacks\\checkpoint_dir\n",
      "[2025-05-18 13:08:52,159] [27] [tumorClassifierLogger] - INFO - Created directory at: artifacts\\prepare_callbacks\\tensorboard_log_dir\n"
     ]
    }
   ],
   "source": [
    "try:\n",
    "    config = ConfigurationManager()\n",
    "    prepare_callbacks_config = config.get_prepare_callback_config()\n",
    "    prepare_callbacks = PrepareCallback(config=prepare_callbacks_config)\n",
    "    callback_list = prepare_callbacks.get_tb_ckpt_callbacks()\n",
    "    \n",
    "except Exception as e:\n",
    "    raise e"
   ]
  },
  {
   "cell_type": "markdown",
   "id": "d1cc5a3d",
   "metadata": {},
   "source": [
    "# Training"
   ]
  },
  {
   "cell_type": "code",
   "execution_count": 50,
   "id": "232c1edc",
   "metadata": {},
   "outputs": [],
   "source": [
    "@dataclass(frozen=True)\n",
    "class TrainingConfig:\n",
    "    root_dir: Path\n",
    "    trained_model_path: Path\n",
    "    updated_base_model_path: Path\n",
    "    source_data_dir: Path\n",
    "    params_epochs: int\n",
    "    params_batch_size: int\n",
    "    params_is_augmentation: bool\n",
    "    params_image_size: list\n",
    "    params_learning_rate: float\n",
    "\n",
    "\n",
    "@dataclass(frozen=True)\n",
    "class PrepareCallbacksConfig:\n",
    "    root_dir: Path\n",
    "    tensorboard_root_log_dir: Path\n",
    "    checkpoint_model_filepath: Path"
   ]
  },
  {
   "cell_type": "code",
   "execution_count": 51,
   "id": "62e783b0",
   "metadata": {},
   "outputs": [],
   "source": [
    "class ConfigurationManager:\n",
    "    def __init__(\n",
    "        self, \n",
    "        config_filepath = CONFIG_FILE_PATH,\n",
    "        params_filepath = PARAMS_FILE_PATH):\n",
    "        self.config = read_yaml(config_filepath)\n",
    "        self.params = read_yaml(params_filepath)\n",
    "        create_directories([Path(self.config.artifacts_root)])\n",
    "\n",
    "\n",
    "    \n",
    "    def get_prepare_callback_config(self) -> PrepareCallbacksConfig:\n",
    "        config = self.config.prepare_callbacks\n",
    "        model_ckpt_dir = os.path.dirname(config.checkpoint_model_filepath)\n",
    "        create_directories([\n",
    "            Path(model_ckpt_dir),\n",
    "            Path(config.tensorboard_root_log_dir)\n",
    "        ])\n",
    "\n",
    "        prepare_callback_config = PrepareCallbacksConfig(\n",
    "            root_dir=Path(config.root_dir),\n",
    "            tensorboard_root_log_dir=Path(config.tensorboard_root_log_dir),\n",
    "            checkpoint_model_filepath=Path(config.checkpoint_model_filepath)\n",
    "        )\n",
    "\n",
    "        return prepare_callback_config\n",
    "    \n",
    "\n",
    "\n",
    "\n",
    "    def get_training_config(self) -> TrainingConfig:\n",
    "        training = self.config.training\n",
    "        prepare_base_model = self.config.prepare_base_model\n",
    "        params = self.params\n",
    "        create_directories([Path(training.root_dir)])\n",
    "\n",
    "        training_config = TrainingConfig(\n",
    "            root_dir=Path(training.root_dir),\n",
    "            trained_model_path=Path(training.trained_model_path),\n",
    "            updated_base_model_path=Path(prepare_base_model.updated_base_model_path),\n",
    "            source_data_dir=Path(self.config.data_ingestion.source_data_dir),\n",
    "            params_epochs=params.EPOCHS,\n",
    "            params_batch_size=params.BATCH_SIZE,\n",
    "            params_is_augmentation=params.AUGMENTATION,\n",
    "            params_image_size=params.IMAGE_SIZE,\n",
    "            params_learning_rate=params.LEARNING_RATE\n",
    "        )\n",
    "\n",
    "        return training_config"
   ]
  },
  {
   "cell_type": "code",
   "execution_count": 52,
   "id": "1f6bfb36",
   "metadata": {},
   "outputs": [],
   "source": [
    "class PrepareCallback:\n",
    "    def __init__(self, config:PrepareCallbacksConfig):\n",
    "        self.config = config\n",
    "        self.timestamp = time.strftime(\"%Y-%m-%d-%H-%M-%S\")\n",
    "        self.tb_running_log_dir = os.path.join(\n",
    "            self.config.tensorboard_root_log_dir,\n",
    "            f\"tb_logs_at_{self.timestamp}\",\n",
    "        )\n",
    "        self._writer = None\n",
    "        self.best_loss = float('inf')\n",
    "\n",
    "    @property\n",
    "    def _create_tb_callbacks(self):\n",
    "        \"\"\"Equivalent of TensorBoard callback in TensorFlow\"\"\"\n",
    "        if self._writer is None:\n",
    "            self._writer = SummaryWriter(log_dir=self.tb_running_log_dir)\n",
    "        return self._writer\n",
    "\n",
    "    @property\n",
    "    def _create_ckpt_callbacks(self):\n",
    "        \"\"\"Equivalent of ModelCheckpoint in TensorFlow\"\"\"\n",
    "        def checkpoint_callback(model, current_loss):\n",
    "            if current_loss < self.best_loss:\n",
    "                self.best_loss = current_loss\n",
    "                torch.save(model.state_dict(), self.config.checkpoint_model_filepath)\n",
    "                print(f\"[Checkpoint] Saved model with loss {current_loss:.4f}\")\n",
    "        return checkpoint_callback\n",
    "\n",
    "    def get_tb_ckpt_callbacks(self):\n",
    "        return [\n",
    "            self._create_tb_callbacks,\n",
    "            self._create_ckpt_callbacks\n",
    "        ]\n",
    "\n",
    "    def close(self):\n",
    "        if self._writer is not None:\n",
    "            self._writer.close()"
   ]
  },
  {
   "cell_type": "code",
   "execution_count": 56,
   "id": "87971ade",
   "metadata": {},
   "outputs": [],
   "source": [
    "\n",
    "class Training:\n",
    "    def __init__(self, config: TrainingConfig, callback_handler: PrepareCallback):\n",
    "        self.config = config\n",
    "        self.callback_handler = callback_handler\n",
    "        self.device = torch.device(\"cuda\" if torch.cuda.is_available() else \"cpu\")\n",
    "        self.model = None\n",
    "\n",
    "    def load_model(self):\n",
    "        self.model = torch.load(self.config.updated_base_model_path, map_location=self.device, weights_only=False)\n",
    "        self.model.to(self.device)\n",
    "\n",
    "\n",
    "    def get_data_loaders(self):\n",
    "        transform_list = [\n",
    "            transforms.Resize(self.config.params_image_size[:-1]),\n",
    "            transforms.ToTensor()\n",
    "        ]\n",
    "\n",
    "        if self.config.params_is_augmentation:\n",
    "            transform_list = [\n",
    "                transforms.RandomHorizontalFlip(),\n",
    "                transforms.RandomRotation(20),\n",
    "                transforms.ColorJitter(brightness=0.2, contrast=0.2, saturation=0.2),\n",
    "            ] + transform_list\n",
    "\n",
    "        transform = transforms.Compose(transform_list)\n",
    "\n",
    "        dataset = datasets.ImageFolder(self.config.source_data_dir, transform=transform)\n",
    "\n",
    "        val_size = int(0.2 * len(dataset))\n",
    "        train_size = len(dataset) - val_size\n",
    "\n",
    "        train_dataset, val_dataset = random_split(dataset, [train_size, val_size])\n",
    "\n",
    "        self.train_loader = DataLoader(\n",
    "            train_dataset,\n",
    "            batch_size=self.config.params_batch_size,\n",
    "            shuffle=True\n",
    "        )\n",
    "\n",
    "        self.val_loader = DataLoader(\n",
    "            val_dataset,\n",
    "            batch_size=self.config.params_batch_size,\n",
    "            shuffle=False\n",
    "        )\n",
    "\n",
    "    def train(self):\n",
    "        self.load_model()\n",
    "        self.get_data_loaders()\n",
    "        tb_writer, checkpoint_callback = self.callback_handler.get_tb_ckpt_callbacks()\n",
    "\n",
    "        criterion = nn.CrossEntropyLoss()\n",
    "        optimizer = torch.optim.SGD(self.model.parameters(), lr=self.config.params_learning_rate)\n",
    "\n",
    "        for epoch in range(self.config.params_epochs):\n",
    "            self.model.train()\n",
    "            running_loss = 0.0\n",
    "            correct = 0\n",
    "            total = 0\n",
    "\n",
    "            loop = tqdm(self.train_loader, desc=f\"Epoch [{epoch+1}/{self.config.params_epochs}]\")\n",
    "            for i, (inputs, labels) in enumerate(loop):\n",
    "            # for inputs, labels in loop:\n",
    "                inputs, labels = inputs.to(self.device), labels.to(self.device)\n",
    "\n",
    "                optimizer.zero_grad()\n",
    "                outputs = self.model(inputs)\n",
    "                loss = criterion(outputs, labels)\n",
    "                loss.backward()\n",
    "                optimizer.step()\n",
    "\n",
    "                running_loss += loss.item()\n",
    "                _, predicted = torch.max(outputs.data, 1)\n",
    "                total += labels.size(0)\n",
    "                correct += (predicted == labels).sum().item()\n",
    "\n",
    "                loop.set_postfix(loss=running_loss / (total if total else 1),\n",
    "                                 acc=100. * correct / total if total else 0)\n",
    "                \n",
    "                step = epoch * len(self.train_loader) + i\n",
    "                tb_writer.add_scalar('Loss/train', loss.item(), step)\n",
    "                tb_writer.add_scalar('Accuracy/train', 100. * correct / total, step)\n",
    "\n",
    "            val_acc = self.evaluate()\n",
    "            print(f\"Epoch {epoch+1}: Train Acc: {100. * correct / total:.2f}%, Val Acc: {val_acc:.2f}%\")\n",
    "            tb_writer.add_scalar('Accuracy/val', val_acc, epoch)\n",
    "            checkpoint_callback(self.model, running_loss)\n",
    "\n",
    "        self.save_model()\n",
    "        self.callback_handler.close()\n",
    "\n",
    "    def evaluate(self):\n",
    "        self.model.eval()\n",
    "        correct = 0\n",
    "        total = 0\n",
    "        with torch.no_grad():\n",
    "            for inputs, labels in self.val_loader:\n",
    "                inputs, labels = inputs.to(self.device), labels.to(self.device)\n",
    "                outputs = self.model(inputs)\n",
    "                _, predicted = torch.max(outputs.data, 1)\n",
    "                total += labels.size(0)\n",
    "                correct += (predicted == labels).sum().item()\n",
    "        return 100. * correct / total\n",
    "\n",
    "    def save_model(self):\n",
    "        torch.save(self.model.state_dict(), self.config.trained_model_path)"
   ]
  },
  {
   "cell_type": "code",
   "execution_count": 58,
   "id": "54691b9c",
   "metadata": {},
   "outputs": [
    {
     "name": "stdout",
     "output_type": "stream",
     "text": [
      "[2025-05-24 09:53:13,503] [14] [tumorClassifierLogger] - INFO - YAML file loaded successfully: config\\config.yaml\n",
      "[2025-05-24 09:53:13,507] [14] [tumorClassifierLogger] - INFO - YAML file loaded successfully: params.yaml\n",
      "[2025-05-24 09:53:13,509] [27] [tumorClassifierLogger] - INFO - Created directory at: artifacts\n",
      "[2025-05-24 09:53:13,511] [27] [tumorClassifierLogger] - INFO - Created directory at: artifacts\\prepare_callbacks\\checkpoint_dir\n",
      "[2025-05-24 09:53:13,513] [27] [tumorClassifierLogger] - INFO - Created directory at: artifacts\\prepare_callbacks\\tensorboard_log_dir\n",
      "[2025-05-24 09:53:13,515] [27] [tumorClassifierLogger] - INFO - Created directory at: artifacts\\training\n"
     ]
    },
    {
     "name": "stderr",
     "output_type": "stream",
     "text": [
      "Epoch [1/1]: 100%|██████████| 13/13 [00:03<00:00,  3.97it/s, acc=62.6, loss=0.0428]\n"
     ]
    },
    {
     "name": "stdout",
     "output_type": "stream",
     "text": [
      "Epoch 1: Train Acc: 62.56%, Val Acc: 60.00%\n",
      "[Checkpoint] Saved model with loss 8.6951\n"
     ]
    }
   ],
   "source": [
    "try:\n",
    "    config = ConfigurationManager()\n",
    "    prepare_callbacks_config = config.get_prepare_callback_config()\n",
    "    prepare_callbacks = PrepareCallback(config=prepare_callbacks_config)\n",
    "\n",
    "    training_config = config.get_training_config()\n",
    "    training = Training(config=training_config, callback_handler=prepare_callbacks)\n",
    "    training.train()\n",
    "    \n",
    "except Exception as e:\n",
    "    raise e"
   ]
  }
 ],
 "metadata": {
  "kernelspec": {
   "display_name": "Python 3",
   "language": "python",
   "name": "python3"
  },
  "language_info": {
   "codemirror_mode": {
    "name": "ipython",
    "version": 3
   },
   "file_extension": ".py",
   "mimetype": "text/x-python",
   "name": "python",
   "nbconvert_exporter": "python",
   "pygments_lexer": "ipython3",
   "version": "3.12.0"
  }
 },
 "nbformat": 4,
 "nbformat_minor": 5
}
